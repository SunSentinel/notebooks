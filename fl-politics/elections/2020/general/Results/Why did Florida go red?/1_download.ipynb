{
 "cells": [
  {
   "cell_type": "markdown",
   "metadata": {},
   "source": [
    "# Download data"
   ]
  },
  {
   "cell_type": "markdown",
   "metadata": {},
   "source": [
    "We'll need to download the data to analyze first. We will need the 2020 election results,as well as the 2016 results, which need to be manually downloaded from here: https://results.elections.myflorida.com/downloadresults.asp?ElectionDate=11/8/2016&DATAMODE=. "
   ]
  },
  {
   "cell_type": "code",
   "execution_count": 4,
   "metadata": {},
   "outputs": [],
   "source": [
    "import requests"
   ]
  },
  {
   "cell_type": "markdown",
   "metadata": {},
   "source": [
    "## Get county level results"
   ]
  },
  {
   "cell_type": "code",
   "execution_count": 5,
   "metadata": {},
   "outputs": [],
   "source": [
    "county_results_url = 'https://flelectionfiles.floridados.gov/enightfilespublic/20201103_ElecResultsFL.txt'\n",
    "county_results_response = requests.get(county_results_url)\n",
    "with open('data/2020_county_results.txt', 'w') as txtfile:\n",
    "    txtfile.write(county_results_response.text)\n",
    "    "
   ]
  },
  {
   "cell_type": "markdown",
   "metadata": {},
   "source": [
    "## Get county turnout data"
   ]
  },
  {
   "cell_type": "code",
   "execution_count": 9,
   "metadata": {},
   "outputs": [
    {
     "name": "stdout",
     "output_type": "stream",
     "text": [
      "  % Total    % Received % Xferd  Average Speed   Time    Time     Time  Current\n",
      "                                 Dload  Upload   Total   Spent    Left  Speed\n",
      "100 11977    0 11977    0     0  50113      0 --:--:-- --:--:-- --:--:-- 50323\n"
     ]
    }
   ],
   "source": [
    "county_turnout_url = 'https://dos.myflorida.com/media/703608/1-party-by-county.xlsx'\n",
    "county_turnout_response = requests.get(county_turnout_url)\n",
    "with open('data/2020_county_turnout.xls', 'wb') as datafile:\n",
    "    datafile.write(county_turnout_response.content)"
   ]
  },
  {
   "cell_type": "code",
   "execution_count": null,
   "metadata": {},
   "outputs": [],
   "source": []
  }
 ],
 "metadata": {
  "kernelspec": {
   "display_name": "Python 3",
   "language": "python",
   "name": "python3"
  },
  "language_info": {
   "codemirror_mode": {
    "name": "ipython",
    "version": 3
   },
   "file_extension": ".py",
   "mimetype": "text/x-python",
   "name": "python",
   "nbconvert_exporter": "python",
   "pygments_lexer": "ipython3",
   "version": "3.6.7"
  }
 },
 "nbformat": 4,
 "nbformat_minor": 2
}
